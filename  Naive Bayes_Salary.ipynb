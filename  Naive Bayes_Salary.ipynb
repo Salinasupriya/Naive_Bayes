{
 "cells": [
  {
   "cell_type": "code",
   "execution_count": 1,
   "id": "63b0001e",
   "metadata": {},
   "outputs": [
    {
     "data": {
      "text/plain": [
       "'\\nPrepare a classification model using Naive Bayes \\nfor salary data \\n\\nData Description:\\n\\nage -- age of a person\\nworkclass\\t-- A work class is a grouping of work \\neducation\\t-- Education of an individuals\\t\\nmaritalstatus -- Marital status of an individulas\\t\\noccupation\\t -- occupation of an individuals\\nrelationship -- \\t\\nrace --  Race of an Individual\\nsex --  Gender of an Individual\\ncapitalgain --  profit received from the sale of an investment\\t\\ncapitalloss\\t-- A decrease in the value of a capital asset\\nhoursperweek -- number of hours work per week\\t\\nnative -- Native of an individual\\nSalary -- salary of an individual\\n\\n'"
      ]
     },
     "execution_count": 1,
     "metadata": {},
     "output_type": "execute_result"
    }
   ],
   "source": [
    "'''\n",
    "Prepare a classification model using Naive Bayes \n",
    "for salary data \n",
    "\n",
    "Data Description:\n",
    "\n",
    "age -- age of a person\n",
    "workclass\t-- A work class is a grouping of work \n",
    "education\t-- Education of an individuals\t\n",
    "maritalstatus -- Marital status of an individulas\t\n",
    "occupation\t -- occupation of an individuals\n",
    "relationship -- \t\n",
    "race --  Race of an Individual\n",
    "sex --  Gender of an Individual\n",
    "capitalgain --  profit received from the sale of an investment\t\n",
    "capitalloss\t-- A decrease in the value of a capital asset\n",
    "hoursperweek -- number of hours work per week\t\n",
    "native -- Native of an individual\n",
    "Salary -- salary of an individual\n",
    "\n",
    "'''"
   ]
  },
  {
   "cell_type": "code",
   "execution_count": 2,
   "id": "9641c9f7",
   "metadata": {},
   "outputs": [],
   "source": [
    "#Importing Libraries\n",
    "\n",
    "import numpy as np\n",
    "import pandas as pd\n",
    "import matplotlib.pyplot as plt\n",
    "import seaborn as sns\n",
    "%matplotlib inline"
   ]
  },
  {
   "cell_type": "code",
   "execution_count": 3,
   "id": "4430eb0d",
   "metadata": {},
   "outputs": [
    {
     "name": "stdout",
     "output_type": "stream",
     "text": [
      " Volume in drive C has no label.\n",
      " Volume Serial Number is 84A1-6D3A\n",
      "\n",
      " Directory of C:\\Users\\hp\\Documents\\EXCELR\\DS_Assign_Ans\n",
      "\n",
      "08/09/2023  01:36 AM           392,097  Naive Bayes_Salary.ipynb\n",
      "08/09/2023  01:37 AM    <DIR>          .\n",
      "08/02/2023  05:51 PM    <DIR>          ..\n",
      "08/09/2023  01:37 AM    <DIR>          .ipynb_checkpoints\n",
      "07/26/2023  05:55 PM           783,051 50_startups data-MLR.ipynb\n",
      "07/26/2023  12:10 PM             2,438 50_Startups.csv\n",
      "08/02/2023  02:05 PM            30,582 Afinn.csv\n",
      "07/28/2023  07:07 PM            81,413 Airlines_DBSCAN.ipynb\n",
      "07/28/2023  07:12 PM           159,209 Airlines_Hierarchical_clustering.ipynb\n",
      "07/28/2023  07:09 PM           145,996 Airlines_Kmeans.ipynb\n",
      "08/01/2023  03:25 PM           164,575 apriori algorithm_Book.ipynb\n",
      "08/01/2023  03:29 PM           182,205 apriori algorithm-my_movies.ipynb\n",
      "08/02/2023  10:55 AM               247 Assignment.txt\n",
      "07/26/2023  06:03 PM         4,610,348 bank-full.csv\n",
      "04/26/2023  08:47 AM    <DIR>          Basic_Stats_L1\n",
      "04/26/2023  08:57 AM    <DIR>          Basic_Stats_L2\n",
      "07/29/2023  12:59 PM            46,094 book.csv\n",
      "08/01/2023  09:10 PM           498,916 book_RS.csv\n",
      "04/15/2023  10:24 PM    <DIR>          Clustering\n",
      "07/26/2023  05:55 PM         2,508,902 Corolla-MLR.ipynb\n",
      "07/28/2023  04:49 PM             1,328 crime_data.csv\n",
      "07/28/2023  07:06 PM           195,493 Crime_DBSCAN.ipynb\n",
      "07/28/2023  07:06 PM           203,692 Crime_Hierarchical_clustering.ipynb\n",
      "07/28/2023  07:07 PM           207,774 Crime_Kmeans.ipynb\n",
      "07/19/2023  10:58 PM               218 delivery_time (1).csv\n",
      "07/25/2023  09:29 PM           169,021 Delivery_time-SLR.ipynb\n",
      "07/28/2023  04:32 PM           268,963 EastWestAirlines.xlsx\n",
      "08/01/2023  08:16 PM           170,848 Elon_musk.csv\n",
      "04/13/2023  03:16 PM    <DIR>          Hypothesis Testing\n",
      "04/14/2023  10:57 PM    <DIR>          Logistic-Regression\n",
      "07/25/2023  10:31 PM    <DIR>          Multi-Linear-Regression\n",
      "07/29/2023  12:59 PM               767 my_movies.csv\n",
      "08/01/2023  08:15 PM            46,299 negative-words.txt\n",
      "07/28/2023  07:12 PM               368 PCA_problem Statement.txt\n",
      "07/29/2023  12:56 PM           378,745 PCA_Wine.ipynb\n",
      "08/01/2023  08:15 PM            20,630 positive-words.txt\n",
      "08/01/2023  03:46 PM                85 Problem Statement (RS).txt\n",
      "08/08/2023  09:30 PM               617 Problem_statement(salary_data).txt\n",
      "07/29/2023  12:59 PM               274 Problem_Statment.txt\n",
      "08/01/2023  08:07 PM           117,730 Recommendation_system-book.ipynb\n",
      "08/08/2023  07:28 PM         1,551,549 review-details.xlsx\n",
      "07/19/2023  10:58 PM               454 Salary_Data (1).csv\n",
      "07/25/2023  09:29 PM           214,188 Salary_hike-SLR.ipynb\n",
      "08/08/2023  09:31 PM         1,694,474 SalaryData_Test.csv\n",
      "08/08/2023  09:31 PM         3,393,618 SalaryData_Train.csv\n",
      "04/14/2023  12:40 PM    <DIR>          Simple-Linear-Regression\n",
      "08/01/2023  08:16 PM             4,158 stop.txt\n",
      "08/08/2023  09:20 PM         7,017,699 Text Mining_Amazon-review.ipynb\n",
      "08/08/2023  09:25 PM         3,735,926 Text Mining_Elon-musk.ipynb\n",
      "07/26/2023  03:11 PM           224,041 ToyotaCorolla.csv\n",
      "07/27/2023  06:20 PM         1,114,781 Untitled.ipynb\n",
      "08/02/2023  06:09 PM             4,195 Untitled1.ipynb\n",
      "07/28/2023  07:12 PM            11,425 wine.csv\n",
      "              43 File(s)     30,355,433 bytes\n",
      "              10 Dir(s)  164,502,425,600 bytes free\n"
     ]
    }
   ],
   "source": [
    "ls"
   ]
  },
  {
   "cell_type": "code",
   "execution_count": 4,
   "id": "37415e11",
   "metadata": {},
   "outputs": [
    {
     "data": {
      "text/html": [
       "<div>\n",
       "<style scoped>\n",
       "    .dataframe tbody tr th:only-of-type {\n",
       "        vertical-align: middle;\n",
       "    }\n",
       "\n",
       "    .dataframe tbody tr th {\n",
       "        vertical-align: top;\n",
       "    }\n",
       "\n",
       "    .dataframe thead th {\n",
       "        text-align: right;\n",
       "    }\n",
       "</style>\n",
       "<table border=\"1\" class=\"dataframe\">\n",
       "  <thead>\n",
       "    <tr style=\"text-align: right;\">\n",
       "      <th></th>\n",
       "      <th>age</th>\n",
       "      <th>workclass</th>\n",
       "      <th>education</th>\n",
       "      <th>educationno</th>\n",
       "      <th>maritalstatus</th>\n",
       "      <th>occupation</th>\n",
       "      <th>relationship</th>\n",
       "      <th>race</th>\n",
       "      <th>sex</th>\n",
       "      <th>capitalgain</th>\n",
       "      <th>capitalloss</th>\n",
       "      <th>hoursperweek</th>\n",
       "      <th>native</th>\n",
       "      <th>Salary</th>\n",
       "    </tr>\n",
       "  </thead>\n",
       "  <tbody>\n",
       "    <tr>\n",
       "      <th>0</th>\n",
       "      <td>39</td>\n",
       "      <td>State-gov</td>\n",
       "      <td>Bachelors</td>\n",
       "      <td>13</td>\n",
       "      <td>Never-married</td>\n",
       "      <td>Adm-clerical</td>\n",
       "      <td>Not-in-family</td>\n",
       "      <td>White</td>\n",
       "      <td>Male</td>\n",
       "      <td>2174</td>\n",
       "      <td>0</td>\n",
       "      <td>40</td>\n",
       "      <td>United-States</td>\n",
       "      <td>&lt;=50K</td>\n",
       "    </tr>\n",
       "    <tr>\n",
       "      <th>1</th>\n",
       "      <td>50</td>\n",
       "      <td>Self-emp-not-inc</td>\n",
       "      <td>Bachelors</td>\n",
       "      <td>13</td>\n",
       "      <td>Married-civ-spouse</td>\n",
       "      <td>Exec-managerial</td>\n",
       "      <td>Husband</td>\n",
       "      <td>White</td>\n",
       "      <td>Male</td>\n",
       "      <td>0</td>\n",
       "      <td>0</td>\n",
       "      <td>13</td>\n",
       "      <td>United-States</td>\n",
       "      <td>&lt;=50K</td>\n",
       "    </tr>\n",
       "    <tr>\n",
       "      <th>2</th>\n",
       "      <td>38</td>\n",
       "      <td>Private</td>\n",
       "      <td>HS-grad</td>\n",
       "      <td>9</td>\n",
       "      <td>Divorced</td>\n",
       "      <td>Handlers-cleaners</td>\n",
       "      <td>Not-in-family</td>\n",
       "      <td>White</td>\n",
       "      <td>Male</td>\n",
       "      <td>0</td>\n",
       "      <td>0</td>\n",
       "      <td>40</td>\n",
       "      <td>United-States</td>\n",
       "      <td>&lt;=50K</td>\n",
       "    </tr>\n",
       "    <tr>\n",
       "      <th>3</th>\n",
       "      <td>53</td>\n",
       "      <td>Private</td>\n",
       "      <td>11th</td>\n",
       "      <td>7</td>\n",
       "      <td>Married-civ-spouse</td>\n",
       "      <td>Handlers-cleaners</td>\n",
       "      <td>Husband</td>\n",
       "      <td>Black</td>\n",
       "      <td>Male</td>\n",
       "      <td>0</td>\n",
       "      <td>0</td>\n",
       "      <td>40</td>\n",
       "      <td>United-States</td>\n",
       "      <td>&lt;=50K</td>\n",
       "    </tr>\n",
       "    <tr>\n",
       "      <th>4</th>\n",
       "      <td>28</td>\n",
       "      <td>Private</td>\n",
       "      <td>Bachelors</td>\n",
       "      <td>13</td>\n",
       "      <td>Married-civ-spouse</td>\n",
       "      <td>Prof-specialty</td>\n",
       "      <td>Wife</td>\n",
       "      <td>Black</td>\n",
       "      <td>Female</td>\n",
       "      <td>0</td>\n",
       "      <td>0</td>\n",
       "      <td>40</td>\n",
       "      <td>Cuba</td>\n",
       "      <td>&lt;=50K</td>\n",
       "    </tr>\n",
       "  </tbody>\n",
       "</table>\n",
       "</div>"
      ],
      "text/plain": [
       "   age          workclass   education  educationno        maritalstatus  \\\n",
       "0   39          State-gov   Bachelors           13        Never-married   \n",
       "1   50   Self-emp-not-inc   Bachelors           13   Married-civ-spouse   \n",
       "2   38            Private     HS-grad            9             Divorced   \n",
       "3   53            Private        11th            7   Married-civ-spouse   \n",
       "4   28            Private   Bachelors           13   Married-civ-spouse   \n",
       "\n",
       "           occupation    relationship    race      sex  capitalgain  \\\n",
       "0        Adm-clerical   Not-in-family   White     Male         2174   \n",
       "1     Exec-managerial         Husband   White     Male            0   \n",
       "2   Handlers-cleaners   Not-in-family   White     Male            0   \n",
       "3   Handlers-cleaners         Husband   Black     Male            0   \n",
       "4      Prof-specialty            Wife   Black   Female            0   \n",
       "\n",
       "   capitalloss  hoursperweek          native  Salary  \n",
       "0            0            40   United-States   <=50K  \n",
       "1            0            13   United-States   <=50K  \n",
       "2            0            40   United-States   <=50K  \n",
       "3            0            40   United-States   <=50K  \n",
       "4            0            40            Cuba   <=50K  "
      ]
     },
     "execution_count": 4,
     "metadata": {},
     "output_type": "execute_result"
    }
   ],
   "source": [
    "train = pd.read_csv('SalaryData_Train.csv')\n",
    "train.head()\n"
   ]
  },
  {
   "cell_type": "code",
   "execution_count": 5,
   "id": "814a55fa",
   "metadata": {},
   "outputs": [
    {
     "data": {
      "text/html": [
       "<div>\n",
       "<style scoped>\n",
       "    .dataframe tbody tr th:only-of-type {\n",
       "        vertical-align: middle;\n",
       "    }\n",
       "\n",
       "    .dataframe tbody tr th {\n",
       "        vertical-align: top;\n",
       "    }\n",
       "\n",
       "    .dataframe thead th {\n",
       "        text-align: right;\n",
       "    }\n",
       "</style>\n",
       "<table border=\"1\" class=\"dataframe\">\n",
       "  <thead>\n",
       "    <tr style=\"text-align: right;\">\n",
       "      <th></th>\n",
       "      <th>age</th>\n",
       "      <th>workclass</th>\n",
       "      <th>education</th>\n",
       "      <th>educationno</th>\n",
       "      <th>maritalstatus</th>\n",
       "      <th>occupation</th>\n",
       "      <th>relationship</th>\n",
       "      <th>race</th>\n",
       "      <th>sex</th>\n",
       "      <th>capitalgain</th>\n",
       "      <th>capitalloss</th>\n",
       "      <th>hoursperweek</th>\n",
       "      <th>native</th>\n",
       "      <th>Salary</th>\n",
       "    </tr>\n",
       "  </thead>\n",
       "  <tbody>\n",
       "    <tr>\n",
       "      <th>0</th>\n",
       "      <td>25</td>\n",
       "      <td>Private</td>\n",
       "      <td>11th</td>\n",
       "      <td>7</td>\n",
       "      <td>Never-married</td>\n",
       "      <td>Machine-op-inspct</td>\n",
       "      <td>Own-child</td>\n",
       "      <td>Black</td>\n",
       "      <td>Male</td>\n",
       "      <td>0</td>\n",
       "      <td>0</td>\n",
       "      <td>40</td>\n",
       "      <td>United-States</td>\n",
       "      <td>&lt;=50K</td>\n",
       "    </tr>\n",
       "    <tr>\n",
       "      <th>1</th>\n",
       "      <td>38</td>\n",
       "      <td>Private</td>\n",
       "      <td>HS-grad</td>\n",
       "      <td>9</td>\n",
       "      <td>Married-civ-spouse</td>\n",
       "      <td>Farming-fishing</td>\n",
       "      <td>Husband</td>\n",
       "      <td>White</td>\n",
       "      <td>Male</td>\n",
       "      <td>0</td>\n",
       "      <td>0</td>\n",
       "      <td>50</td>\n",
       "      <td>United-States</td>\n",
       "      <td>&lt;=50K</td>\n",
       "    </tr>\n",
       "    <tr>\n",
       "      <th>2</th>\n",
       "      <td>28</td>\n",
       "      <td>Local-gov</td>\n",
       "      <td>Assoc-acdm</td>\n",
       "      <td>12</td>\n",
       "      <td>Married-civ-spouse</td>\n",
       "      <td>Protective-serv</td>\n",
       "      <td>Husband</td>\n",
       "      <td>White</td>\n",
       "      <td>Male</td>\n",
       "      <td>0</td>\n",
       "      <td>0</td>\n",
       "      <td>40</td>\n",
       "      <td>United-States</td>\n",
       "      <td>&gt;50K</td>\n",
       "    </tr>\n",
       "    <tr>\n",
       "      <th>3</th>\n",
       "      <td>44</td>\n",
       "      <td>Private</td>\n",
       "      <td>Some-college</td>\n",
       "      <td>10</td>\n",
       "      <td>Married-civ-spouse</td>\n",
       "      <td>Machine-op-inspct</td>\n",
       "      <td>Husband</td>\n",
       "      <td>Black</td>\n",
       "      <td>Male</td>\n",
       "      <td>7688</td>\n",
       "      <td>0</td>\n",
       "      <td>40</td>\n",
       "      <td>United-States</td>\n",
       "      <td>&gt;50K</td>\n",
       "    </tr>\n",
       "    <tr>\n",
       "      <th>4</th>\n",
       "      <td>34</td>\n",
       "      <td>Private</td>\n",
       "      <td>10th</td>\n",
       "      <td>6</td>\n",
       "      <td>Never-married</td>\n",
       "      <td>Other-service</td>\n",
       "      <td>Not-in-family</td>\n",
       "      <td>White</td>\n",
       "      <td>Male</td>\n",
       "      <td>0</td>\n",
       "      <td>0</td>\n",
       "      <td>30</td>\n",
       "      <td>United-States</td>\n",
       "      <td>&lt;=50K</td>\n",
       "    </tr>\n",
       "  </tbody>\n",
       "</table>\n",
       "</div>"
      ],
      "text/plain": [
       "   age   workclass      education  educationno        maritalstatus  \\\n",
       "0   25     Private           11th            7        Never-married   \n",
       "1   38     Private        HS-grad            9   Married-civ-spouse   \n",
       "2   28   Local-gov     Assoc-acdm           12   Married-civ-spouse   \n",
       "3   44     Private   Some-college           10   Married-civ-spouse   \n",
       "4   34     Private           10th            6        Never-married   \n",
       "\n",
       "           occupation    relationship    race    sex  capitalgain  \\\n",
       "0   Machine-op-inspct       Own-child   Black   Male            0   \n",
       "1     Farming-fishing         Husband   White   Male            0   \n",
       "2     Protective-serv         Husband   White   Male            0   \n",
       "3   Machine-op-inspct         Husband   Black   Male         7688   \n",
       "4       Other-service   Not-in-family   White   Male            0   \n",
       "\n",
       "   capitalloss  hoursperweek          native  Salary  \n",
       "0            0            40   United-States   <=50K  \n",
       "1            0            50   United-States   <=50K  \n",
       "2            0            40   United-States    >50K  \n",
       "3            0            40   United-States    >50K  \n",
       "4            0            30   United-States   <=50K  "
      ]
     },
     "execution_count": 5,
     "metadata": {},
     "output_type": "execute_result"
    }
   ],
   "source": [
    "test = pd.read_csv('SalaryData_Test.csv')\n",
    "test.head()"
   ]
  },
  {
   "cell_type": "code",
   "execution_count": 6,
   "id": "4e291859",
   "metadata": {},
   "outputs": [
    {
     "data": {
      "text/plain": [
       "(15060, 14)"
      ]
     },
     "execution_count": 6,
     "metadata": {},
     "output_type": "execute_result"
    }
   ],
   "source": [
    "test.shape"
   ]
  },
  {
   "cell_type": "code",
   "execution_count": 7,
   "id": "da9dbfe1",
   "metadata": {},
   "outputs": [
    {
     "data": {
      "text/plain": [
       "(30161, 14)"
      ]
     },
     "execution_count": 7,
     "metadata": {},
     "output_type": "execute_result"
    }
   ],
   "source": [
    "train.shape"
   ]
  },
  {
   "cell_type": "code",
   "execution_count": 8,
   "id": "3a4fb967",
   "metadata": {},
   "outputs": [
    {
     "name": "stdout",
     "output_type": "stream",
     "text": [
      "<class 'pandas.core.frame.DataFrame'>\n",
      "RangeIndex: 30161 entries, 0 to 30160\n",
      "Data columns (total 14 columns):\n",
      " #   Column         Non-Null Count  Dtype \n",
      "---  ------         --------------  ----- \n",
      " 0   age            30161 non-null  int64 \n",
      " 1   workclass      30161 non-null  object\n",
      " 2   education      30161 non-null  object\n",
      " 3   educationno    30161 non-null  int64 \n",
      " 4   maritalstatus  30161 non-null  object\n",
      " 5   occupation     30161 non-null  object\n",
      " 6   relationship   30161 non-null  object\n",
      " 7   race           30161 non-null  object\n",
      " 8   sex            30161 non-null  object\n",
      " 9   capitalgain    30161 non-null  int64 \n",
      " 10  capitalloss    30161 non-null  int64 \n",
      " 11  hoursperweek   30161 non-null  int64 \n",
      " 12  native         30161 non-null  object\n",
      " 13  Salary         30161 non-null  object\n",
      "dtypes: int64(5), object(9)\n",
      "memory usage: 3.2+ MB\n"
     ]
    }
   ],
   "source": [
    "train.info()"
   ]
  },
  {
   "cell_type": "code",
   "execution_count": 9,
   "id": "adf6a8c5",
   "metadata": {},
   "outputs": [
    {
     "name": "stdout",
     "output_type": "stream",
     "text": [
      "<class 'pandas.core.frame.DataFrame'>\n",
      "RangeIndex: 15060 entries, 0 to 15059\n",
      "Data columns (total 14 columns):\n",
      " #   Column         Non-Null Count  Dtype \n",
      "---  ------         --------------  ----- \n",
      " 0   age            15060 non-null  int64 \n",
      " 1   workclass      15060 non-null  object\n",
      " 2   education      15060 non-null  object\n",
      " 3   educationno    15060 non-null  int64 \n",
      " 4   maritalstatus  15060 non-null  object\n",
      " 5   occupation     15060 non-null  object\n",
      " 6   relationship   15060 non-null  object\n",
      " 7   race           15060 non-null  object\n",
      " 8   sex            15060 non-null  object\n",
      " 9   capitalgain    15060 non-null  int64 \n",
      " 10  capitalloss    15060 non-null  int64 \n",
      " 11  hoursperweek   15060 non-null  int64 \n",
      " 12  native         15060 non-null  object\n",
      " 13  Salary         15060 non-null  object\n",
      "dtypes: int64(5), object(9)\n",
      "memory usage: 1.6+ MB\n"
     ]
    }
   ],
   "source": [
    "test.info()"
   ]
  },
  {
   "cell_type": "code",
   "execution_count": 10,
   "id": "2e78ee86",
   "metadata": {},
   "outputs": [
    {
     "data": {
      "text/plain": [
       "age              0\n",
       "workclass        0\n",
       "education        0\n",
       "educationno      0\n",
       "maritalstatus    0\n",
       "occupation       0\n",
       "relationship     0\n",
       "race             0\n",
       "sex              0\n",
       "capitalgain      0\n",
       "capitalloss      0\n",
       "hoursperweek     0\n",
       "native           0\n",
       "Salary           0\n",
       "dtype: int64"
      ]
     },
     "execution_count": 10,
     "metadata": {},
     "output_type": "execute_result"
    }
   ],
   "source": [
    "train.isnull().sum()\n"
   ]
  },
  {
   "cell_type": "code",
   "execution_count": 11,
   "id": "ff320e86",
   "metadata": {},
   "outputs": [
    {
     "data": {
      "text/plain": [
       "age              0\n",
       "workclass        0\n",
       "education        0\n",
       "educationno      0\n",
       "maritalstatus    0\n",
       "occupation       0\n",
       "relationship     0\n",
       "race             0\n",
       "sex              0\n",
       "capitalgain      0\n",
       "capitalloss      0\n",
       "hoursperweek     0\n",
       "native           0\n",
       "Salary           0\n",
       "dtype: int64"
      ]
     },
     "execution_count": 11,
     "metadata": {},
     "output_type": "execute_result"
    }
   ],
   "source": [
    "test.isnull().sum()"
   ]
  },
  {
   "cell_type": "code",
   "execution_count": 12,
   "id": "4198d21f",
   "metadata": {},
   "outputs": [
    {
     "data": {
      "text/html": [
       "<div>\n",
       "<style scoped>\n",
       "    .dataframe tbody tr th:only-of-type {\n",
       "        vertical-align: middle;\n",
       "    }\n",
       "\n",
       "    .dataframe tbody tr th {\n",
       "        vertical-align: top;\n",
       "    }\n",
       "\n",
       "    .dataframe thead th {\n",
       "        text-align: right;\n",
       "    }\n",
       "</style>\n",
       "<table border=\"1\" class=\"dataframe\">\n",
       "  <thead>\n",
       "    <tr style=\"text-align: right;\">\n",
       "      <th></th>\n",
       "      <th>age</th>\n",
       "      <th>educationno</th>\n",
       "      <th>capitalgain</th>\n",
       "      <th>capitalloss</th>\n",
       "      <th>hoursperweek</th>\n",
       "    </tr>\n",
       "  </thead>\n",
       "  <tbody>\n",
       "    <tr>\n",
       "      <th>count</th>\n",
       "      <td>30161.000000</td>\n",
       "      <td>30161.000000</td>\n",
       "      <td>30161.000000</td>\n",
       "      <td>30161.000000</td>\n",
       "      <td>30161.000000</td>\n",
       "    </tr>\n",
       "    <tr>\n",
       "      <th>mean</th>\n",
       "      <td>38.438115</td>\n",
       "      <td>10.121316</td>\n",
       "      <td>1092.044064</td>\n",
       "      <td>88.302311</td>\n",
       "      <td>40.931269</td>\n",
       "    </tr>\n",
       "    <tr>\n",
       "      <th>std</th>\n",
       "      <td>13.134830</td>\n",
       "      <td>2.550037</td>\n",
       "      <td>7406.466611</td>\n",
       "      <td>404.121321</td>\n",
       "      <td>11.980182</td>\n",
       "    </tr>\n",
       "    <tr>\n",
       "      <th>min</th>\n",
       "      <td>17.000000</td>\n",
       "      <td>1.000000</td>\n",
       "      <td>0.000000</td>\n",
       "      <td>0.000000</td>\n",
       "      <td>1.000000</td>\n",
       "    </tr>\n",
       "    <tr>\n",
       "      <th>25%</th>\n",
       "      <td>28.000000</td>\n",
       "      <td>9.000000</td>\n",
       "      <td>0.000000</td>\n",
       "      <td>0.000000</td>\n",
       "      <td>40.000000</td>\n",
       "    </tr>\n",
       "    <tr>\n",
       "      <th>50%</th>\n",
       "      <td>37.000000</td>\n",
       "      <td>10.000000</td>\n",
       "      <td>0.000000</td>\n",
       "      <td>0.000000</td>\n",
       "      <td>40.000000</td>\n",
       "    </tr>\n",
       "    <tr>\n",
       "      <th>75%</th>\n",
       "      <td>47.000000</td>\n",
       "      <td>13.000000</td>\n",
       "      <td>0.000000</td>\n",
       "      <td>0.000000</td>\n",
       "      <td>45.000000</td>\n",
       "    </tr>\n",
       "    <tr>\n",
       "      <th>max</th>\n",
       "      <td>90.000000</td>\n",
       "      <td>16.000000</td>\n",
       "      <td>99999.000000</td>\n",
       "      <td>4356.000000</td>\n",
       "      <td>99.000000</td>\n",
       "    </tr>\n",
       "  </tbody>\n",
       "</table>\n",
       "</div>"
      ],
      "text/plain": [
       "                age   educationno   capitalgain   capitalloss  hoursperweek\n",
       "count  30161.000000  30161.000000  30161.000000  30161.000000  30161.000000\n",
       "mean      38.438115     10.121316   1092.044064     88.302311     40.931269\n",
       "std       13.134830      2.550037   7406.466611    404.121321     11.980182\n",
       "min       17.000000      1.000000      0.000000      0.000000      1.000000\n",
       "25%       28.000000      9.000000      0.000000      0.000000     40.000000\n",
       "50%       37.000000     10.000000      0.000000      0.000000     40.000000\n",
       "75%       47.000000     13.000000      0.000000      0.000000     45.000000\n",
       "max       90.000000     16.000000  99999.000000   4356.000000     99.000000"
      ]
     },
     "execution_count": 12,
     "metadata": {},
     "output_type": "execute_result"
    }
   ],
   "source": [
    "train.describe()"
   ]
  },
  {
   "cell_type": "code",
   "execution_count": 13,
   "id": "efa90595",
   "metadata": {},
   "outputs": [],
   "source": [
    "#Plots"
   ]
  },
  {
   "cell_type": "code",
   "execution_count": 14,
   "id": "9abfde84",
   "metadata": {},
   "outputs": [
    {
     "data": {
      "image/png": "[encoded data removed]",
      "text/plain": [
       "<Figure size 1000x600 with 1 Axes>"
      ]
     },
     "metadata": {},
     "output_type": "display_data"
    }
   ],
   "source": [
    "#Workclass\n",
    "plt.figure(figsize=(10,6))\n",
    "train.workclass.value_counts().plot.bar(color='purple');"
   ]
  },
  {
   "cell_type": "code",
   "execution_count": 15,
   "id": "78f1bcfc",
   "metadata": {},
   "outputs": [
    {
     "data": {
      "image/png": "[encoded data removed]",
      "text/plain": [
       "<Figure size 1000x600 with 1 Axes>"
      ]
     },
     "metadata": {},
     "output_type": "display_data"
    }
   ],
   "source": [
    "#Maritial status\n",
    "plt.figure(figsize=(10,6))\n",
    "train.maritalstatus.value_counts().plot.bar(color='pink');"
   ]
  },
  {
   "cell_type": "code",
   "execution_count": 16,
   "id": "a91adbf1",
   "metadata": {},
   "outputs": [
    {
     "data": {
      "image/png": "[encoded data removed]",
      "text/plain": [
       "<Figure size 1000x600 with 1 Axes>"
      ]
     },
     "metadata": {},
     "output_type": "display_data"
    }
   ],
   "source": [
    "#Occupation\n",
    "plt.figure(figsize=(10,6))\n",
    "train.occupation.value_counts().plot.bar(color='purple');"
   ]
  },
  {
   "cell_type": "code",
   "execution_count": 17,
   "id": "753a57bd",
   "metadata": {},
   "outputs": [
    {
     "data": {
      "image/png": "[encoded data removed]",
      "text/plain": [
       "<Figure size 1000x600 with 1 Axes>"
      ]
     },
     "metadata": {},
     "output_type": "display_data"
    }
   ],
   "source": [
    "#Relationship\n",
    "plt.figure(figsize=(10,6))\n",
    "train.relationship.value_counts().plot.bar(color='pink');"
   ]
  },
  {
   "cell_type": "code",
   "execution_count": 18,
   "id": "b63c3dd8",
   "metadata": {},
   "outputs": [
    {
     "data": {
      "image/png": "[encoded data removed]",
      "text/plain": [
       "<Figure size 1000x600 with 1 Axes>"
      ]
     },
     "metadata": {},
     "output_type": "display_data"
    }
   ],
   "source": [
    "#Race\n",
    "plt.figure(figsize=(10,6))\n",
    "train.race.value_counts().plot.bar(color='purple');"
   ]
  },
  {
   "cell_type": "code",
   "execution_count": 19,
   "id": "75671f93",
   "metadata": {},
   "outputs": [
    {
     "data": {
      "image/png": "[encoded data removed]",
      "text/plain": [
       "<Figure size 1000x600 with 1 Axes>"
      ]
     },
     "metadata": {},
     "output_type": "display_data"
    }
   ],
   "source": [
    "#Sex\n",
    "plt.figure(figsize=(10,6))\n",
    "train.sex.value_counts().plot.bar(color='pink');"
   ]
  },
  {
   "cell_type": "code",
   "execution_count": 20,
   "id": "5371a00a",
   "metadata": {},
   "outputs": [
    {
     "data": {
      "image/png": "[encoded data removed]",
      "text/plain": [
       "<Figure size 1000x600 with 1 Axes>"
      ]
     },
     "metadata": {},
     "output_type": "display_data"
    }
   ],
   "source": [
    "#salary\n",
    "plt.figure(figsize=(10,6))\n",
    "train.Salary.value_counts().plot.bar(color='purple');"
   ]
  },
  {
   "cell_type": "code",
   "execution_count": 21,
   "id": "8a2ef00a",
   "metadata": {},
   "outputs": [
    {
     "data": {
      "text/plain": [
       "<AxesSubplot:xlabel='Salary', ylabel='count'>"
      ]
     },
     "execution_count": 21,
     "metadata": {},
     "output_type": "execute_result"
    },
    {
     "data": {
      "image/png": "[encoded data removed]",
      "text/plain": [
       "<Figure size 1000x600 with 1 Axes>"
      ]
     },
     "metadata": {},
     "output_type": "display_data"
    }
   ],
   "source": [
    "#Salary wrt to Education\n",
    "plt.figure(figsize=(10,6))\n",
    "sns.countplot(x = train['Salary'],hue= train['education'])"
   ]
  },
  {
   "cell_type": "code",
   "execution_count": 22,
   "id": "c1aec929",
   "metadata": {},
   "outputs": [
    {
     "data": {
      "text/plain": [
       "<AxesSubplot:xlabel='Salary', ylabel='count'>"
      ]
     },
     "execution_count": 22,
     "metadata": {},
     "output_type": "execute_result"
    },
    {
     "data": {
      "image/png": "[encoded data removed]",
      "text/plain": [
       "<Figure size 1000x600 with 1 Axes>"
      ]
     },
     "metadata": {},
     "output_type": "display_data"
    }
   ],
   "source": [
    "#Salary wrt to Occupation\n",
    "plt.figure(figsize=(10,6))\n",
    "sns.countplot(x=train['Salary'], hue=train['occupation'])"
   ]
  },
  {
   "cell_type": "code",
   "execution_count": 23,
   "id": "9a2c9f13",
   "metadata": {},
   "outputs": [],
   "source": [
    "# converting non numeric data into numeric"
   ]
  },
  {
   "cell_type": "code",
   "execution_count": 24,
   "id": "275529b6",
   "metadata": {},
   "outputs": [
    {
     "data": {
      "text/html": [
       "<div>\n",
       "<style scoped>\n",
       "    .dataframe tbody tr th:only-of-type {\n",
       "        vertical-align: middle;\n",
       "    }\n",
       "\n",
       "    .dataframe tbody tr th {\n",
       "        vertical-align: top;\n",
       "    }\n",
       "\n",
       "    .dataframe thead th {\n",
       "        text-align: right;\n",
       "    }\n",
       "</style>\n",
       "<table border=\"1\" class=\"dataframe\">\n",
       "  <thead>\n",
       "    <tr style=\"text-align: right;\">\n",
       "      <th></th>\n",
       "      <th>age</th>\n",
       "      <th>educationno</th>\n",
       "      <th>capitalgain</th>\n",
       "      <th>capitalloss</th>\n",
       "      <th>hoursperweek</th>\n",
       "      <th>workclass_ Federal-gov</th>\n",
       "      <th>workclass_ Local-gov</th>\n",
       "      <th>workclass_ Private</th>\n",
       "      <th>workclass_ Self-emp-inc</th>\n",
       "      <th>workclass_ Self-emp-not-inc</th>\n",
       "      <th>...</th>\n",
       "      <th>native_ Portugal</th>\n",
       "      <th>native_ Puerto-Rico</th>\n",
       "      <th>native_ Scotland</th>\n",
       "      <th>native_ South</th>\n",
       "      <th>native_ Taiwan</th>\n",
       "      <th>native_ Thailand</th>\n",
       "      <th>native_ Trinadad&amp;Tobago</th>\n",
       "      <th>native_ United-States</th>\n",
       "      <th>native_ Vietnam</th>\n",
       "      <th>native_ Yugoslavia</th>\n",
       "    </tr>\n",
       "  </thead>\n",
       "  <tbody>\n",
       "    <tr>\n",
       "      <th>0</th>\n",
       "      <td>39</td>\n",
       "      <td>13</td>\n",
       "      <td>2174</td>\n",
       "      <td>0</td>\n",
       "      <td>40</td>\n",
       "      <td>0</td>\n",
       "      <td>0</td>\n",
       "      <td>0</td>\n",
       "      <td>0</td>\n",
       "      <td>0</td>\n",
       "      <td>...</td>\n",
       "      <td>0</td>\n",
       "      <td>0</td>\n",
       "      <td>0</td>\n",
       "      <td>0</td>\n",
       "      <td>0</td>\n",
       "      <td>0</td>\n",
       "      <td>0</td>\n",
       "      <td>1</td>\n",
       "      <td>0</td>\n",
       "      <td>0</td>\n",
       "    </tr>\n",
       "    <tr>\n",
       "      <th>1</th>\n",
       "      <td>50</td>\n",
       "      <td>13</td>\n",
       "      <td>0</td>\n",
       "      <td>0</td>\n",
       "      <td>13</td>\n",
       "      <td>0</td>\n",
       "      <td>0</td>\n",
       "      <td>0</td>\n",
       "      <td>0</td>\n",
       "      <td>1</td>\n",
       "      <td>...</td>\n",
       "      <td>0</td>\n",
       "      <td>0</td>\n",
       "      <td>0</td>\n",
       "      <td>0</td>\n",
       "      <td>0</td>\n",
       "      <td>0</td>\n",
       "      <td>0</td>\n",
       "      <td>1</td>\n",
       "      <td>0</td>\n",
       "      <td>0</td>\n",
       "    </tr>\n",
       "    <tr>\n",
       "      <th>2</th>\n",
       "      <td>38</td>\n",
       "      <td>9</td>\n",
       "      <td>0</td>\n",
       "      <td>0</td>\n",
       "      <td>40</td>\n",
       "      <td>0</td>\n",
       "      <td>0</td>\n",
       "      <td>1</td>\n",
       "      <td>0</td>\n",
       "      <td>0</td>\n",
       "      <td>...</td>\n",
       "      <td>0</td>\n",
       "      <td>0</td>\n",
       "      <td>0</td>\n",
       "      <td>0</td>\n",
       "      <td>0</td>\n",
       "      <td>0</td>\n",
       "      <td>0</td>\n",
       "      <td>1</td>\n",
       "      <td>0</td>\n",
       "      <td>0</td>\n",
       "    </tr>\n",
       "    <tr>\n",
       "      <th>3</th>\n",
       "      <td>53</td>\n",
       "      <td>7</td>\n",
       "      <td>0</td>\n",
       "      <td>0</td>\n",
       "      <td>40</td>\n",
       "      <td>0</td>\n",
       "      <td>0</td>\n",
       "      <td>1</td>\n",
       "      <td>0</td>\n",
       "      <td>0</td>\n",
       "      <td>...</td>\n",
       "      <td>0</td>\n",
       "      <td>0</td>\n",
       "      <td>0</td>\n",
       "      <td>0</td>\n",
       "      <td>0</td>\n",
       "      <td>0</td>\n",
       "      <td>0</td>\n",
       "      <td>1</td>\n",
       "      <td>0</td>\n",
       "      <td>0</td>\n",
       "    </tr>\n",
       "    <tr>\n",
       "      <th>4</th>\n",
       "      <td>28</td>\n",
       "      <td>13</td>\n",
       "      <td>0</td>\n",
       "      <td>0</td>\n",
       "      <td>40</td>\n",
       "      <td>0</td>\n",
       "      <td>0</td>\n",
       "      <td>1</td>\n",
       "      <td>0</td>\n",
       "      <td>0</td>\n",
       "      <td>...</td>\n",
       "      <td>0</td>\n",
       "      <td>0</td>\n",
       "      <td>0</td>\n",
       "      <td>0</td>\n",
       "      <td>0</td>\n",
       "      <td>0</td>\n",
       "      <td>0</td>\n",
       "      <td>0</td>\n",
       "      <td>0</td>\n",
       "      <td>0</td>\n",
       "    </tr>\n",
       "  </tbody>\n",
       "</table>\n",
       "<p>5 rows × 102 columns</p>\n",
       "</div>"
      ],
      "text/plain": [
       "   age  educationno  capitalgain  capitalloss  hoursperweek  \\\n",
       "0   39           13         2174            0            40   \n",
       "1   50           13            0            0            13   \n",
       "2   38            9            0            0            40   \n",
       "3   53            7            0            0            40   \n",
       "4   28           13            0            0            40   \n",
       "\n",
       "   workclass_ Federal-gov  workclass_ Local-gov  workclass_ Private  \\\n",
       "0                       0                     0                   0   \n",
       "1                       0                     0                   0   \n",
       "2                       0                     0                   1   \n",
       "3                       0                     0                   1   \n",
       "4                       0                     0                   1   \n",
       "\n",
       "   workclass_ Self-emp-inc  workclass_ Self-emp-not-inc  ...  \\\n",
       "0                        0                            0  ...   \n",
       "1                        0                            1  ...   \n",
       "2                        0                            0  ...   \n",
       "3                        0                            0  ...   \n",
       "4                        0                            0  ...   \n",
       "\n",
       "   native_ Portugal  native_ Puerto-Rico  native_ Scotland  native_ South  \\\n",
       "0                 0                    0                 0              0   \n",
       "1                 0                    0                 0              0   \n",
       "2                 0                    0                 0              0   \n",
       "3                 0                    0                 0              0   \n",
       "4                 0                    0                 0              0   \n",
       "\n",
       "   native_ Taiwan  native_ Thailand  native_ Trinadad&Tobago  \\\n",
       "0               0                 0                        0   \n",
       "1               0                 0                        0   \n",
       "2               0                 0                        0   \n",
       "3               0                 0                        0   \n",
       "4               0                 0                        0   \n",
       "\n",
       "   native_ United-States  native_ Vietnam  native_ Yugoslavia  \n",
       "0                      1                0                   0  \n",
       "1                      1                0                   0  \n",
       "2                      1                0                   0  \n",
       "3                      1                0                   0  \n",
       "4                      0                0                   0  \n",
       "\n",
       "[5 rows x 102 columns]"
      ]
     },
     "execution_count": 24,
     "metadata": {},
     "output_type": "execute_result"
    }
   ],
   "source": [
    "train1 = train.iloc[:,0:13]\n",
    "train1 = pd.get_dummies(train1)\n",
    "train1.head()"
   ]
  },
  {
   "cell_type": "code",
   "execution_count": 25,
   "id": "edfbb410",
   "metadata": {},
   "outputs": [
    {
     "data": {
      "text/html": [
       "<div>\n",
       "<style scoped>\n",
       "    .dataframe tbody tr th:only-of-type {\n",
       "        vertical-align: middle;\n",
       "    }\n",
       "\n",
       "    .dataframe tbody tr th {\n",
       "        vertical-align: top;\n",
       "    }\n",
       "\n",
       "    .dataframe thead th {\n",
       "        text-align: right;\n",
       "    }\n",
       "</style>\n",
       "<table border=\"1\" class=\"dataframe\">\n",
       "  <thead>\n",
       "    <tr style=\"text-align: right;\">\n",
       "      <th></th>\n",
       "      <th>age</th>\n",
       "      <th>educationno</th>\n",
       "      <th>capitalgain</th>\n",
       "      <th>capitalloss</th>\n",
       "      <th>hoursperweek</th>\n",
       "      <th>workclass_ Federal-gov</th>\n",
       "      <th>workclass_ Local-gov</th>\n",
       "      <th>workclass_ Private</th>\n",
       "      <th>workclass_ Self-emp-inc</th>\n",
       "      <th>workclass_ Self-emp-not-inc</th>\n",
       "      <th>...</th>\n",
       "      <th>native_ Portugal</th>\n",
       "      <th>native_ Puerto-Rico</th>\n",
       "      <th>native_ Scotland</th>\n",
       "      <th>native_ South</th>\n",
       "      <th>native_ Taiwan</th>\n",
       "      <th>native_ Thailand</th>\n",
       "      <th>native_ Trinadad&amp;Tobago</th>\n",
       "      <th>native_ United-States</th>\n",
       "      <th>native_ Vietnam</th>\n",
       "      <th>native_ Yugoslavia</th>\n",
       "    </tr>\n",
       "  </thead>\n",
       "  <tbody>\n",
       "    <tr>\n",
       "      <th>0</th>\n",
       "      <td>25</td>\n",
       "      <td>7</td>\n",
       "      <td>0</td>\n",
       "      <td>0</td>\n",
       "      <td>40</td>\n",
       "      <td>0</td>\n",
       "      <td>0</td>\n",
       "      <td>1</td>\n",
       "      <td>0</td>\n",
       "      <td>0</td>\n",
       "      <td>...</td>\n",
       "      <td>0</td>\n",
       "      <td>0</td>\n",
       "      <td>0</td>\n",
       "      <td>0</td>\n",
       "      <td>0</td>\n",
       "      <td>0</td>\n",
       "      <td>0</td>\n",
       "      <td>1</td>\n",
       "      <td>0</td>\n",
       "      <td>0</td>\n",
       "    </tr>\n",
       "    <tr>\n",
       "      <th>1</th>\n",
       "      <td>38</td>\n",
       "      <td>9</td>\n",
       "      <td>0</td>\n",
       "      <td>0</td>\n",
       "      <td>50</td>\n",
       "      <td>0</td>\n",
       "      <td>0</td>\n",
       "      <td>1</td>\n",
       "      <td>0</td>\n",
       "      <td>0</td>\n",
       "      <td>...</td>\n",
       "      <td>0</td>\n",
       "      <td>0</td>\n",
       "      <td>0</td>\n",
       "      <td>0</td>\n",
       "      <td>0</td>\n",
       "      <td>0</td>\n",
       "      <td>0</td>\n",
       "      <td>1</td>\n",
       "      <td>0</td>\n",
       "      <td>0</td>\n",
       "    </tr>\n",
       "    <tr>\n",
       "      <th>2</th>\n",
       "      <td>28</td>\n",
       "      <td>12</td>\n",
       "      <td>0</td>\n",
       "      <td>0</td>\n",
       "      <td>40</td>\n",
       "      <td>0</td>\n",
       "      <td>1</td>\n",
       "      <td>0</td>\n",
       "      <td>0</td>\n",
       "      <td>0</td>\n",
       "      <td>...</td>\n",
       "      <td>0</td>\n",
       "      <td>0</td>\n",
       "      <td>0</td>\n",
       "      <td>0</td>\n",
       "      <td>0</td>\n",
       "      <td>0</td>\n",
       "      <td>0</td>\n",
       "      <td>1</td>\n",
       "      <td>0</td>\n",
       "      <td>0</td>\n",
       "    </tr>\n",
       "    <tr>\n",
       "      <th>3</th>\n",
       "      <td>44</td>\n",
       "      <td>10</td>\n",
       "      <td>7688</td>\n",
       "      <td>0</td>\n",
       "      <td>40</td>\n",
       "      <td>0</td>\n",
       "      <td>0</td>\n",
       "      <td>1</td>\n",
       "      <td>0</td>\n",
       "      <td>0</td>\n",
       "      <td>...</td>\n",
       "      <td>0</td>\n",
       "      <td>0</td>\n",
       "      <td>0</td>\n",
       "      <td>0</td>\n",
       "      <td>0</td>\n",
       "      <td>0</td>\n",
       "      <td>0</td>\n",
       "      <td>1</td>\n",
       "      <td>0</td>\n",
       "      <td>0</td>\n",
       "    </tr>\n",
       "    <tr>\n",
       "      <th>4</th>\n",
       "      <td>34</td>\n",
       "      <td>6</td>\n",
       "      <td>0</td>\n",
       "      <td>0</td>\n",
       "      <td>30</td>\n",
       "      <td>0</td>\n",
       "      <td>0</td>\n",
       "      <td>1</td>\n",
       "      <td>0</td>\n",
       "      <td>0</td>\n",
       "      <td>...</td>\n",
       "      <td>0</td>\n",
       "      <td>0</td>\n",
       "      <td>0</td>\n",
       "      <td>0</td>\n",
       "      <td>0</td>\n",
       "      <td>0</td>\n",
       "      <td>0</td>\n",
       "      <td>1</td>\n",
       "      <td>0</td>\n",
       "      <td>0</td>\n",
       "    </tr>\n",
       "  </tbody>\n",
       "</table>\n",
       "<p>5 rows × 102 columns</p>\n",
       "</div>"
      ],
      "text/plain": [
       "   age  educationno  capitalgain  capitalloss  hoursperweek  \\\n",
       "0   25            7            0            0            40   \n",
       "1   38            9            0            0            50   \n",
       "2   28           12            0            0            40   \n",
       "3   44           10         7688            0            40   \n",
       "4   34            6            0            0            30   \n",
       "\n",
       "   workclass_ Federal-gov  workclass_ Local-gov  workclass_ Private  \\\n",
       "0                       0                     0                   1   \n",
       "1                       0                     0                   1   \n",
       "2                       0                     1                   0   \n",
       "3                       0                     0                   1   \n",
       "4                       0                     0                   1   \n",
       "\n",
       "   workclass_ Self-emp-inc  workclass_ Self-emp-not-inc  ...  \\\n",
       "0                        0                            0  ...   \n",
       "1                        0                            0  ...   \n",
       "2                        0                            0  ...   \n",
       "3                        0                            0  ...   \n",
       "4                        0                            0  ...   \n",
       "\n",
       "   native_ Portugal  native_ Puerto-Rico  native_ Scotland  native_ South  \\\n",
       "0                 0                    0                 0              0   \n",
       "1                 0                    0                 0              0   \n",
       "2                 0                    0                 0              0   \n",
       "3                 0                    0                 0              0   \n",
       "4                 0                    0                 0              0   \n",
       "\n",
       "   native_ Taiwan  native_ Thailand  native_ Trinadad&Tobago  \\\n",
       "0               0                 0                        0   \n",
       "1               0                 0                        0   \n",
       "2               0                 0                        0   \n",
       "3               0                 0                        0   \n",
       "4               0                 0                        0   \n",
       "\n",
       "   native_ United-States  native_ Vietnam  native_ Yugoslavia  \n",
       "0                      1                0                   0  \n",
       "1                      1                0                   0  \n",
       "2                      1                0                   0  \n",
       "3                      1                0                   0  \n",
       "4                      1                0                   0  \n",
       "\n",
       "[5 rows x 102 columns]"
      ]
     },
     "execution_count": 25,
     "metadata": {},
     "output_type": "execute_result"
    }
   ],
   "source": [
    "test1 = test.iloc[:,0:13]\n",
    "test1 = pd.get_dummies(test1)\n",
    "test1.head()"
   ]
  },
  {
   "cell_type": "code",
   "execution_count": 26,
   "id": "aad07b3e",
   "metadata": {},
   "outputs": [
    {
     "data": {
      "text/plain": [
       "Index(['age', 'educationno', 'capitalgain', 'capitalloss', 'hoursperweek',\n",
       "       'workclass_ Federal-gov', 'workclass_ Local-gov', 'workclass_ Private',\n",
       "       'workclass_ Self-emp-inc', 'workclass_ Self-emp-not-inc',\n",
       "       ...\n",
       "       'native_ Portugal', 'native_ Puerto-Rico', 'native_ Scotland',\n",
       "       'native_ South', 'native_ Taiwan', 'native_ Thailand',\n",
       "       'native_ Trinadad&Tobago', 'native_ United-States', 'native_ Vietnam',\n",
       "       'native_ Yugoslavia'],\n",
       "      dtype='object', length=102)"
      ]
     },
     "execution_count": 26,
     "metadata": {},
     "output_type": "execute_result"
    }
   ],
   "source": [
    "train1.columns"
   ]
  },
  {
   "cell_type": "code",
   "execution_count": 27,
   "id": "357a6e2c",
   "metadata": {},
   "outputs": [],
   "source": [
    "#train data "
   ]
  },
  {
   "cell_type": "code",
   "execution_count": 28,
   "id": "ec1f1323",
   "metadata": {
    "scrolled": true
   },
   "outputs": [
    {
     "data": {
      "text/html": [
       "<div>\n",
       "<style scoped>\n",
       "    .dataframe tbody tr th:only-of-type {\n",
       "        vertical-align: middle;\n",
       "    }\n",
       "\n",
       "    .dataframe tbody tr th {\n",
       "        vertical-align: top;\n",
       "    }\n",
       "\n",
       "    .dataframe thead th {\n",
       "        text-align: right;\n",
       "    }\n",
       "</style>\n",
       "<table border=\"1\" class=\"dataframe\">\n",
       "  <thead>\n",
       "    <tr style=\"text-align: right;\">\n",
       "      <th></th>\n",
       "      <th>age</th>\n",
       "      <th>educationno</th>\n",
       "      <th>capitalgain</th>\n",
       "      <th>capitalloss</th>\n",
       "      <th>hoursperweek</th>\n",
       "      <th>workclass_ Federal-gov</th>\n",
       "      <th>workclass_ Local-gov</th>\n",
       "      <th>workclass_ Private</th>\n",
       "      <th>workclass_ Self-emp-inc</th>\n",
       "      <th>workclass_ Self-emp-not-inc</th>\n",
       "      <th>...</th>\n",
       "      <th>native_ Puerto-Rico</th>\n",
       "      <th>native_ Scotland</th>\n",
       "      <th>native_ South</th>\n",
       "      <th>native_ Taiwan</th>\n",
       "      <th>native_ Thailand</th>\n",
       "      <th>native_ Trinadad&amp;Tobago</th>\n",
       "      <th>native_ United-States</th>\n",
       "      <th>native_ Vietnam</th>\n",
       "      <th>native_ Yugoslavia</th>\n",
       "      <th>Salary</th>\n",
       "    </tr>\n",
       "  </thead>\n",
       "  <tbody>\n",
       "    <tr>\n",
       "      <th>0</th>\n",
       "      <td>39</td>\n",
       "      <td>13</td>\n",
       "      <td>2174</td>\n",
       "      <td>0</td>\n",
       "      <td>40</td>\n",
       "      <td>0</td>\n",
       "      <td>0</td>\n",
       "      <td>0</td>\n",
       "      <td>0</td>\n",
       "      <td>0</td>\n",
       "      <td>...</td>\n",
       "      <td>0</td>\n",
       "      <td>0</td>\n",
       "      <td>0</td>\n",
       "      <td>0</td>\n",
       "      <td>0</td>\n",
       "      <td>0</td>\n",
       "      <td>1</td>\n",
       "      <td>0</td>\n",
       "      <td>0</td>\n",
       "      <td>&lt;=50K</td>\n",
       "    </tr>\n",
       "    <tr>\n",
       "      <th>1</th>\n",
       "      <td>50</td>\n",
       "      <td>13</td>\n",
       "      <td>0</td>\n",
       "      <td>0</td>\n",
       "      <td>13</td>\n",
       "      <td>0</td>\n",
       "      <td>0</td>\n",
       "      <td>0</td>\n",
       "      <td>0</td>\n",
       "      <td>1</td>\n",
       "      <td>...</td>\n",
       "      <td>0</td>\n",
       "      <td>0</td>\n",
       "      <td>0</td>\n",
       "      <td>0</td>\n",
       "      <td>0</td>\n",
       "      <td>0</td>\n",
       "      <td>1</td>\n",
       "      <td>0</td>\n",
       "      <td>0</td>\n",
       "      <td>&lt;=50K</td>\n",
       "    </tr>\n",
       "    <tr>\n",
       "      <th>2</th>\n",
       "      <td>38</td>\n",
       "      <td>9</td>\n",
       "      <td>0</td>\n",
       "      <td>0</td>\n",
       "      <td>40</td>\n",
       "      <td>0</td>\n",
       "      <td>0</td>\n",
       "      <td>1</td>\n",
       "      <td>0</td>\n",
       "      <td>0</td>\n",
       "      <td>...</td>\n",
       "      <td>0</td>\n",
       "      <td>0</td>\n",
       "      <td>0</td>\n",
       "      <td>0</td>\n",
       "      <td>0</td>\n",
       "      <td>0</td>\n",
       "      <td>1</td>\n",
       "      <td>0</td>\n",
       "      <td>0</td>\n",
       "      <td>&lt;=50K</td>\n",
       "    </tr>\n",
       "    <tr>\n",
       "      <th>3</th>\n",
       "      <td>53</td>\n",
       "      <td>7</td>\n",
       "      <td>0</td>\n",
       "      <td>0</td>\n",
       "      <td>40</td>\n",
       "      <td>0</td>\n",
       "      <td>0</td>\n",
       "      <td>1</td>\n",
       "      <td>0</td>\n",
       "      <td>0</td>\n",
       "      <td>...</td>\n",
       "      <td>0</td>\n",
       "      <td>0</td>\n",
       "      <td>0</td>\n",
       "      <td>0</td>\n",
       "      <td>0</td>\n",
       "      <td>0</td>\n",
       "      <td>1</td>\n",
       "      <td>0</td>\n",
       "      <td>0</td>\n",
       "      <td>&lt;=50K</td>\n",
       "    </tr>\n",
       "    <tr>\n",
       "      <th>4</th>\n",
       "      <td>28</td>\n",
       "      <td>13</td>\n",
       "      <td>0</td>\n",
       "      <td>0</td>\n",
       "      <td>40</td>\n",
       "      <td>0</td>\n",
       "      <td>0</td>\n",
       "      <td>1</td>\n",
       "      <td>0</td>\n",
       "      <td>0</td>\n",
       "      <td>...</td>\n",
       "      <td>0</td>\n",
       "      <td>0</td>\n",
       "      <td>0</td>\n",
       "      <td>0</td>\n",
       "      <td>0</td>\n",
       "      <td>0</td>\n",
       "      <td>0</td>\n",
       "      <td>0</td>\n",
       "      <td>0</td>\n",
       "      <td>&lt;=50K</td>\n",
       "    </tr>\n",
       "    <tr>\n",
       "      <th>...</th>\n",
       "      <td>...</td>\n",
       "      <td>...</td>\n",
       "      <td>...</td>\n",
       "      <td>...</td>\n",
       "      <td>...</td>\n",
       "      <td>...</td>\n",
       "      <td>...</td>\n",
       "      <td>...</td>\n",
       "      <td>...</td>\n",
       "      <td>...</td>\n",
       "      <td>...</td>\n",
       "      <td>...</td>\n",
       "      <td>...</td>\n",
       "      <td>...</td>\n",
       "      <td>...</td>\n",
       "      <td>...</td>\n",
       "      <td>...</td>\n",
       "      <td>...</td>\n",
       "      <td>...</td>\n",
       "      <td>...</td>\n",
       "      <td>...</td>\n",
       "    </tr>\n",
       "    <tr>\n",
       "      <th>30156</th>\n",
       "      <td>27</td>\n",
       "      <td>12</td>\n",
       "      <td>0</td>\n",
       "      <td>0</td>\n",
       "      <td>38</td>\n",
       "      <td>0</td>\n",
       "      <td>0</td>\n",
       "      <td>1</td>\n",
       "      <td>0</td>\n",
       "      <td>0</td>\n",
       "      <td>...</td>\n",
       "      <td>0</td>\n",
       "      <td>0</td>\n",
       "      <td>0</td>\n",
       "      <td>0</td>\n",
       "      <td>0</td>\n",
       "      <td>0</td>\n",
       "      <td>1</td>\n",
       "      <td>0</td>\n",
       "      <td>0</td>\n",
       "      <td>&lt;=50K</td>\n",
       "    </tr>\n",
       "    <tr>\n",
       "      <th>30157</th>\n",
       "      <td>40</td>\n",
       "      <td>9</td>\n",
       "      <td>0</td>\n",
       "      <td>0</td>\n",
       "      <td>40</td>\n",
       "      <td>0</td>\n",
       "      <td>0</td>\n",
       "      <td>1</td>\n",
       "      <td>0</td>\n",
       "      <td>0</td>\n",
       "      <td>...</td>\n",
       "      <td>0</td>\n",
       "      <td>0</td>\n",
       "      <td>0</td>\n",
       "      <td>0</td>\n",
       "      <td>0</td>\n",
       "      <td>0</td>\n",
       "      <td>1</td>\n",
       "      <td>0</td>\n",
       "      <td>0</td>\n",
       "      <td>&gt;50K</td>\n",
       "    </tr>\n",
       "    <tr>\n",
       "      <th>30158</th>\n",
       "      <td>58</td>\n",
       "      <td>9</td>\n",
       "      <td>0</td>\n",
       "      <td>0</td>\n",
       "      <td>40</td>\n",
       "      <td>0</td>\n",
       "      <td>0</td>\n",
       "      <td>1</td>\n",
       "      <td>0</td>\n",
       "      <td>0</td>\n",
       "      <td>...</td>\n",
       "      <td>0</td>\n",
       "      <td>0</td>\n",
       "      <td>0</td>\n",
       "      <td>0</td>\n",
       "      <td>0</td>\n",
       "      <td>0</td>\n",
       "      <td>1</td>\n",
       "      <td>0</td>\n",
       "      <td>0</td>\n",
       "      <td>&lt;=50K</td>\n",
       "    </tr>\n",
       "    <tr>\n",
       "      <th>30159</th>\n",
       "      <td>22</td>\n",
       "      <td>9</td>\n",
       "      <td>0</td>\n",
       "      <td>0</td>\n",
       "      <td>20</td>\n",
       "      <td>0</td>\n",
       "      <td>0</td>\n",
       "      <td>1</td>\n",
       "      <td>0</td>\n",
       "      <td>0</td>\n",
       "      <td>...</td>\n",
       "      <td>0</td>\n",
       "      <td>0</td>\n",
       "      <td>0</td>\n",
       "      <td>0</td>\n",
       "      <td>0</td>\n",
       "      <td>0</td>\n",
       "      <td>1</td>\n",
       "      <td>0</td>\n",
       "      <td>0</td>\n",
       "      <td>&lt;=50K</td>\n",
       "    </tr>\n",
       "    <tr>\n",
       "      <th>30160</th>\n",
       "      <td>52</td>\n",
       "      <td>9</td>\n",
       "      <td>15024</td>\n",
       "      <td>0</td>\n",
       "      <td>40</td>\n",
       "      <td>0</td>\n",
       "      <td>0</td>\n",
       "      <td>0</td>\n",
       "      <td>1</td>\n",
       "      <td>0</td>\n",
       "      <td>...</td>\n",
       "      <td>0</td>\n",
       "      <td>0</td>\n",
       "      <td>0</td>\n",
       "      <td>0</td>\n",
       "      <td>0</td>\n",
       "      <td>0</td>\n",
       "      <td>1</td>\n",
       "      <td>0</td>\n",
       "      <td>0</td>\n",
       "      <td>&gt;50K</td>\n",
       "    </tr>\n",
       "  </tbody>\n",
       "</table>\n",
       "<p>30161 rows × 103 columns</p>\n",
       "</div>"
      ],
      "text/plain": [
       "       age  educationno  capitalgain  capitalloss  hoursperweek  \\\n",
       "0       39           13         2174            0            40   \n",
       "1       50           13            0            0            13   \n",
       "2       38            9            0            0            40   \n",
       "3       53            7            0            0            40   \n",
       "4       28           13            0            0            40   \n",
       "...    ...          ...          ...          ...           ...   \n",
       "30156   27           12            0            0            38   \n",
       "30157   40            9            0            0            40   \n",
       "30158   58            9            0            0            40   \n",
       "30159   22            9            0            0            20   \n",
       "30160   52            9        15024            0            40   \n",
       "\n",
       "       workclass_ Federal-gov  workclass_ Local-gov  workclass_ Private  \\\n",
       "0                           0                     0                   0   \n",
       "1                           0                     0                   0   \n",
       "2                           0                     0                   1   \n",
       "3                           0                     0                   1   \n",
       "4                           0                     0                   1   \n",
       "...                       ...                   ...                 ...   \n",
       "30156                       0                     0                   1   \n",
       "30157                       0                     0                   1   \n",
       "30158                       0                     0                   1   \n",
       "30159                       0                     0                   1   \n",
       "30160                       0                     0                   0   \n",
       "\n",
       "       workclass_ Self-emp-inc  workclass_ Self-emp-not-inc  ...  \\\n",
       "0                            0                            0  ...   \n",
       "1                            0                            1  ...   \n",
       "2                            0                            0  ...   \n",
       "3                            0                            0  ...   \n",
       "4                            0                            0  ...   \n",
       "...                        ...                          ...  ...   \n",
       "30156                        0                            0  ...   \n",
       "30157                        0                            0  ...   \n",
       "30158                        0                            0  ...   \n",
       "30159                        0                            0  ...   \n",
       "30160                        1                            0  ...   \n",
       "\n",
       "       native_ Puerto-Rico  native_ Scotland  native_ South  native_ Taiwan  \\\n",
       "0                        0                 0              0               0   \n",
       "1                        0                 0              0               0   \n",
       "2                        0                 0              0               0   \n",
       "3                        0                 0              0               0   \n",
       "4                        0                 0              0               0   \n",
       "...                    ...               ...            ...             ...   \n",
       "30156                    0                 0              0               0   \n",
       "30157                    0                 0              0               0   \n",
       "30158                    0                 0              0               0   \n",
       "30159                    0                 0              0               0   \n",
       "30160                    0                 0              0               0   \n",
       "\n",
       "       native_ Thailand  native_ Trinadad&Tobago  native_ United-States  \\\n",
       "0                     0                        0                      1   \n",
       "1                     0                        0                      1   \n",
       "2                     0                        0                      1   \n",
       "3                     0                        0                      1   \n",
       "4                     0                        0                      0   \n",
       "...                 ...                      ...                    ...   \n",
       "30156                 0                        0                      1   \n",
       "30157                 0                        0                      1   \n",
       "30158                 0                        0                      1   \n",
       "30159                 0                        0                      1   \n",
       "30160                 0                        0                      1   \n",
       "\n",
       "       native_ Vietnam  native_ Yugoslavia  Salary  \n",
       "0                    0                   0   <=50K  \n",
       "1                    0                   0   <=50K  \n",
       "2                    0                   0   <=50K  \n",
       "3                    0                   0   <=50K  \n",
       "4                    0                   0   <=50K  \n",
       "...                ...                 ...     ...  \n",
       "30156                0                   0   <=50K  \n",
       "30157                0                   0    >50K  \n",
       "30158                0                   0   <=50K  \n",
       "30159                0                   0   <=50K  \n",
       "30160                0                   0    >50K  \n",
       "\n",
       "[30161 rows x 103 columns]"
      ]
     },
     "execution_count": 28,
     "metadata": {},
     "output_type": "execute_result"
    }
   ],
   "source": [
    "#train data concating\n",
    "finaltrain = pd.concat([train1, train['Salary']],axis=1)\n",
    "finaltrain"
   ]
  },
  {
   "cell_type": "code",
   "execution_count": 29,
   "id": "a22a255b",
   "metadata": {},
   "outputs": [],
   "source": [
    "X = finaltrain.values[:,0:102]\n",
    "Y = finaltrain.values[:,102]"
   ]
  },
  {
   "cell_type": "code",
   "execution_count": 30,
   "id": "b3b7e087",
   "metadata": {},
   "outputs": [],
   "source": [
    "#Test Data"
   ]
  },
  {
   "cell_type": "code",
   "execution_count": 31,
   "id": "37454ab2",
   "metadata": {},
   "outputs": [
    {
     "data": {
      "text/html": [
       "<div>\n",
       "<style scoped>\n",
       "    .dataframe tbody tr th:only-of-type {\n",
       "        vertical-align: middle;\n",
       "    }\n",
       "\n",
       "    .dataframe tbody tr th {\n",
       "        vertical-align: top;\n",
       "    }\n",
       "\n",
       "    .dataframe thead th {\n",
       "        text-align: right;\n",
       "    }\n",
       "</style>\n",
       "<table border=\"1\" class=\"dataframe\">\n",
       "  <thead>\n",
       "    <tr style=\"text-align: right;\">\n",
       "      <th></th>\n",
       "      <th>age</th>\n",
       "      <th>educationno</th>\n",
       "      <th>capitalgain</th>\n",
       "      <th>capitalloss</th>\n",
       "      <th>hoursperweek</th>\n",
       "      <th>workclass_ Federal-gov</th>\n",
       "      <th>workclass_ Local-gov</th>\n",
       "      <th>workclass_ Private</th>\n",
       "      <th>workclass_ Self-emp-inc</th>\n",
       "      <th>workclass_ Self-emp-not-inc</th>\n",
       "      <th>...</th>\n",
       "      <th>native_ Puerto-Rico</th>\n",
       "      <th>native_ Scotland</th>\n",
       "      <th>native_ South</th>\n",
       "      <th>native_ Taiwan</th>\n",
       "      <th>native_ Thailand</th>\n",
       "      <th>native_ Trinadad&amp;Tobago</th>\n",
       "      <th>native_ United-States</th>\n",
       "      <th>native_ Vietnam</th>\n",
       "      <th>native_ Yugoslavia</th>\n",
       "      <th>Salary</th>\n",
       "    </tr>\n",
       "  </thead>\n",
       "  <tbody>\n",
       "    <tr>\n",
       "      <th>0</th>\n",
       "      <td>25</td>\n",
       "      <td>7</td>\n",
       "      <td>0</td>\n",
       "      <td>0</td>\n",
       "      <td>40</td>\n",
       "      <td>0</td>\n",
       "      <td>0</td>\n",
       "      <td>1</td>\n",
       "      <td>0</td>\n",
       "      <td>0</td>\n",
       "      <td>...</td>\n",
       "      <td>0</td>\n",
       "      <td>0</td>\n",
       "      <td>0</td>\n",
       "      <td>0</td>\n",
       "      <td>0</td>\n",
       "      <td>0</td>\n",
       "      <td>1</td>\n",
       "      <td>0</td>\n",
       "      <td>0</td>\n",
       "      <td>&lt;=50K</td>\n",
       "    </tr>\n",
       "    <tr>\n",
       "      <th>1</th>\n",
       "      <td>38</td>\n",
       "      <td>9</td>\n",
       "      <td>0</td>\n",
       "      <td>0</td>\n",
       "      <td>50</td>\n",
       "      <td>0</td>\n",
       "      <td>0</td>\n",
       "      <td>1</td>\n",
       "      <td>0</td>\n",
       "      <td>0</td>\n",
       "      <td>...</td>\n",
       "      <td>0</td>\n",
       "      <td>0</td>\n",
       "      <td>0</td>\n",
       "      <td>0</td>\n",
       "      <td>0</td>\n",
       "      <td>0</td>\n",
       "      <td>1</td>\n",
       "      <td>0</td>\n",
       "      <td>0</td>\n",
       "      <td>&lt;=50K</td>\n",
       "    </tr>\n",
       "    <tr>\n",
       "      <th>2</th>\n",
       "      <td>28</td>\n",
       "      <td>12</td>\n",
       "      <td>0</td>\n",
       "      <td>0</td>\n",
       "      <td>40</td>\n",
       "      <td>0</td>\n",
       "      <td>1</td>\n",
       "      <td>0</td>\n",
       "      <td>0</td>\n",
       "      <td>0</td>\n",
       "      <td>...</td>\n",
       "      <td>0</td>\n",
       "      <td>0</td>\n",
       "      <td>0</td>\n",
       "      <td>0</td>\n",
       "      <td>0</td>\n",
       "      <td>0</td>\n",
       "      <td>1</td>\n",
       "      <td>0</td>\n",
       "      <td>0</td>\n",
       "      <td>&gt;50K</td>\n",
       "    </tr>\n",
       "    <tr>\n",
       "      <th>3</th>\n",
       "      <td>44</td>\n",
       "      <td>10</td>\n",
       "      <td>7688</td>\n",
       "      <td>0</td>\n",
       "      <td>40</td>\n",
       "      <td>0</td>\n",
       "      <td>0</td>\n",
       "      <td>1</td>\n",
       "      <td>0</td>\n",
       "      <td>0</td>\n",
       "      <td>...</td>\n",
       "      <td>0</td>\n",
       "      <td>0</td>\n",
       "      <td>0</td>\n",
       "      <td>0</td>\n",
       "      <td>0</td>\n",
       "      <td>0</td>\n",
       "      <td>1</td>\n",
       "      <td>0</td>\n",
       "      <td>0</td>\n",
       "      <td>&gt;50K</td>\n",
       "    </tr>\n",
       "    <tr>\n",
       "      <th>4</th>\n",
       "      <td>34</td>\n",
       "      <td>6</td>\n",
       "      <td>0</td>\n",
       "      <td>0</td>\n",
       "      <td>30</td>\n",
       "      <td>0</td>\n",
       "      <td>0</td>\n",
       "      <td>1</td>\n",
       "      <td>0</td>\n",
       "      <td>0</td>\n",
       "      <td>...</td>\n",
       "      <td>0</td>\n",
       "      <td>0</td>\n",
       "      <td>0</td>\n",
       "      <td>0</td>\n",
       "      <td>0</td>\n",
       "      <td>0</td>\n",
       "      <td>1</td>\n",
       "      <td>0</td>\n",
       "      <td>0</td>\n",
       "      <td>&lt;=50K</td>\n",
       "    </tr>\n",
       "    <tr>\n",
       "      <th>...</th>\n",
       "      <td>...</td>\n",
       "      <td>...</td>\n",
       "      <td>...</td>\n",
       "      <td>...</td>\n",
       "      <td>...</td>\n",
       "      <td>...</td>\n",
       "      <td>...</td>\n",
       "      <td>...</td>\n",
       "      <td>...</td>\n",
       "      <td>...</td>\n",
       "      <td>...</td>\n",
       "      <td>...</td>\n",
       "      <td>...</td>\n",
       "      <td>...</td>\n",
       "      <td>...</td>\n",
       "      <td>...</td>\n",
       "      <td>...</td>\n",
       "      <td>...</td>\n",
       "      <td>...</td>\n",
       "      <td>...</td>\n",
       "      <td>...</td>\n",
       "    </tr>\n",
       "    <tr>\n",
       "      <th>15055</th>\n",
       "      <td>33</td>\n",
       "      <td>13</td>\n",
       "      <td>0</td>\n",
       "      <td>0</td>\n",
       "      <td>40</td>\n",
       "      <td>0</td>\n",
       "      <td>0</td>\n",
       "      <td>1</td>\n",
       "      <td>0</td>\n",
       "      <td>0</td>\n",
       "      <td>...</td>\n",
       "      <td>0</td>\n",
       "      <td>0</td>\n",
       "      <td>0</td>\n",
       "      <td>0</td>\n",
       "      <td>0</td>\n",
       "      <td>0</td>\n",
       "      <td>1</td>\n",
       "      <td>0</td>\n",
       "      <td>0</td>\n",
       "      <td>&lt;=50K</td>\n",
       "    </tr>\n",
       "    <tr>\n",
       "      <th>15056</th>\n",
       "      <td>39</td>\n",
       "      <td>13</td>\n",
       "      <td>0</td>\n",
       "      <td>0</td>\n",
       "      <td>36</td>\n",
       "      <td>0</td>\n",
       "      <td>0</td>\n",
       "      <td>1</td>\n",
       "      <td>0</td>\n",
       "      <td>0</td>\n",
       "      <td>...</td>\n",
       "      <td>0</td>\n",
       "      <td>0</td>\n",
       "      <td>0</td>\n",
       "      <td>0</td>\n",
       "      <td>0</td>\n",
       "      <td>0</td>\n",
       "      <td>1</td>\n",
       "      <td>0</td>\n",
       "      <td>0</td>\n",
       "      <td>&lt;=50K</td>\n",
       "    </tr>\n",
       "    <tr>\n",
       "      <th>15057</th>\n",
       "      <td>38</td>\n",
       "      <td>13</td>\n",
       "      <td>0</td>\n",
       "      <td>0</td>\n",
       "      <td>50</td>\n",
       "      <td>0</td>\n",
       "      <td>0</td>\n",
       "      <td>1</td>\n",
       "      <td>0</td>\n",
       "      <td>0</td>\n",
       "      <td>...</td>\n",
       "      <td>0</td>\n",
       "      <td>0</td>\n",
       "      <td>0</td>\n",
       "      <td>0</td>\n",
       "      <td>0</td>\n",
       "      <td>0</td>\n",
       "      <td>1</td>\n",
       "      <td>0</td>\n",
       "      <td>0</td>\n",
       "      <td>&lt;=50K</td>\n",
       "    </tr>\n",
       "    <tr>\n",
       "      <th>15058</th>\n",
       "      <td>44</td>\n",
       "      <td>13</td>\n",
       "      <td>5455</td>\n",
       "      <td>0</td>\n",
       "      <td>40</td>\n",
       "      <td>0</td>\n",
       "      <td>0</td>\n",
       "      <td>1</td>\n",
       "      <td>0</td>\n",
       "      <td>0</td>\n",
       "      <td>...</td>\n",
       "      <td>0</td>\n",
       "      <td>0</td>\n",
       "      <td>0</td>\n",
       "      <td>0</td>\n",
       "      <td>0</td>\n",
       "      <td>0</td>\n",
       "      <td>1</td>\n",
       "      <td>0</td>\n",
       "      <td>0</td>\n",
       "      <td>&lt;=50K</td>\n",
       "    </tr>\n",
       "    <tr>\n",
       "      <th>15059</th>\n",
       "      <td>35</td>\n",
       "      <td>13</td>\n",
       "      <td>0</td>\n",
       "      <td>0</td>\n",
       "      <td>60</td>\n",
       "      <td>0</td>\n",
       "      <td>0</td>\n",
       "      <td>0</td>\n",
       "      <td>1</td>\n",
       "      <td>0</td>\n",
       "      <td>...</td>\n",
       "      <td>0</td>\n",
       "      <td>0</td>\n",
       "      <td>0</td>\n",
       "      <td>0</td>\n",
       "      <td>0</td>\n",
       "      <td>0</td>\n",
       "      <td>1</td>\n",
       "      <td>0</td>\n",
       "      <td>0</td>\n",
       "      <td>&gt;50K</td>\n",
       "    </tr>\n",
       "  </tbody>\n",
       "</table>\n",
       "<p>15060 rows × 103 columns</p>\n",
       "</div>"
      ],
      "text/plain": [
       "       age  educationno  capitalgain  capitalloss  hoursperweek  \\\n",
       "0       25            7            0            0            40   \n",
       "1       38            9            0            0            50   \n",
       "2       28           12            0            0            40   \n",
       "3       44           10         7688            0            40   \n",
       "4       34            6            0            0            30   \n",
       "...    ...          ...          ...          ...           ...   \n",
       "15055   33           13            0            0            40   \n",
       "15056   39           13            0            0            36   \n",
       "15057   38           13            0            0            50   \n",
       "15058   44           13         5455            0            40   \n",
       "15059   35           13            0            0            60   \n",
       "\n",
       "       workclass_ Federal-gov  workclass_ Local-gov  workclass_ Private  \\\n",
       "0                           0                     0                   1   \n",
       "1                           0                     0                   1   \n",
       "2                           0                     1                   0   \n",
       "3                           0                     0                   1   \n",
       "4                           0                     0                   1   \n",
       "...                       ...                   ...                 ...   \n",
       "15055                       0                     0                   1   \n",
       "15056                       0                     0                   1   \n",
       "15057                       0                     0                   1   \n",
       "15058                       0                     0                   1   \n",
       "15059                       0                     0                   0   \n",
       "\n",
       "       workclass_ Self-emp-inc  workclass_ Self-emp-not-inc  ...  \\\n",
       "0                            0                            0  ...   \n",
       "1                            0                            0  ...   \n",
       "2                            0                            0  ...   \n",
       "3                            0                            0  ...   \n",
       "4                            0                            0  ...   \n",
       "...                        ...                          ...  ...   \n",
       "15055                        0                            0  ...   \n",
       "15056                        0                            0  ...   \n",
       "15057                        0                            0  ...   \n",
       "15058                        0                            0  ...   \n",
       "15059                        1                            0  ...   \n",
       "\n",
       "       native_ Puerto-Rico  native_ Scotland  native_ South  native_ Taiwan  \\\n",
       "0                        0                 0              0               0   \n",
       "1                        0                 0              0               0   \n",
       "2                        0                 0              0               0   \n",
       "3                        0                 0              0               0   \n",
       "4                        0                 0              0               0   \n",
       "...                    ...               ...            ...             ...   \n",
       "15055                    0                 0              0               0   \n",
       "15056                    0                 0              0               0   \n",
       "15057                    0                 0              0               0   \n",
       "15058                    0                 0              0               0   \n",
       "15059                    0                 0              0               0   \n",
       "\n",
       "       native_ Thailand  native_ Trinadad&Tobago  native_ United-States  \\\n",
       "0                     0                        0                      1   \n",
       "1                     0                        0                      1   \n",
       "2                     0                        0                      1   \n",
       "3                     0                        0                      1   \n",
       "4                     0                        0                      1   \n",
       "...                 ...                      ...                    ...   \n",
       "15055                 0                        0                      1   \n",
       "15056                 0                        0                      1   \n",
       "15057                 0                        0                      1   \n",
       "15058                 0                        0                      1   \n",
       "15059                 0                        0                      1   \n",
       "\n",
       "       native_ Vietnam  native_ Yugoslavia  Salary  \n",
       "0                    0                   0   <=50K  \n",
       "1                    0                   0   <=50K  \n",
       "2                    0                   0    >50K  \n",
       "3                    0                   0    >50K  \n",
       "4                    0                   0   <=50K  \n",
       "...                ...                 ...     ...  \n",
       "15055                0                   0   <=50K  \n",
       "15056                0                   0   <=50K  \n",
       "15057                0                   0   <=50K  \n",
       "15058                0                   0   <=50K  \n",
       "15059                0                   0    >50K  \n",
       "\n",
       "[15060 rows x 103 columns]"
      ]
     },
     "execution_count": 31,
     "metadata": {},
     "output_type": "execute_result"
    }
   ],
   "source": [
    "#test data concating\n",
    "finaltest = pd.concat([test1, test['Salary']],axis=1)\n",
    "finaltest"
   ]
  },
  {
   "cell_type": "code",
   "execution_count": 32,
   "id": "4dc7f348",
   "metadata": {},
   "outputs": [],
   "source": [
    "x = finaltest.values[:,0:102]\n",
    "y = finaltest.values[:,102]"
   ]
  },
  {
   "cell_type": "markdown",
   "id": "6cf3c87a",
   "metadata": {},
   "source": [
    "### Model\n",
    "#### Gaussian Naive Bayes"
   ]
  },
  {
   "cell_type": "code",
   "execution_count": 33,
   "id": "2319ab04",
   "metadata": {},
   "outputs": [],
   "source": [
    "from sklearn.naive_bayes import GaussianNB as GB"
   ]
  },
  {
   "cell_type": "code",
   "execution_count": 34,
   "id": "7f06ff09",
   "metadata": {},
   "outputs": [],
   "source": [
    "#train model"
   ]
  },
  {
   "cell_type": "code",
   "execution_count": 35,
   "id": "e8c7463d",
   "metadata": {},
   "outputs": [
    {
     "data": {
      "text/plain": [
       "GaussianNB()"
      ]
     },
     "execution_count": 35,
     "metadata": {},
     "output_type": "execute_result"
    }
   ],
   "source": [
    "train_model = GB()\n",
    "train_model.fit(X,Y)"
   ]
  },
  {
   "cell_type": "code",
   "execution_count": 36,
   "id": "d42f02fa",
   "metadata": {},
   "outputs": [],
   "source": [
    "x_pred_train= train_model.predict(X)"
   ]
  },
  {
   "cell_type": "code",
   "execution_count": 37,
   "id": "08e8a194",
   "metadata": {},
   "outputs": [],
   "source": [
    "from sklearn.metrics import accuracy_score,classification_report,confusion_matrix"
   ]
  },
  {
   "cell_type": "code",
   "execution_count": 38,
   "id": "1b6fe7f9",
   "metadata": {},
   "outputs": [],
   "source": [
    "#Training data accurancy score"
   ]
  },
  {
   "cell_type": "code",
   "execution_count": 39,
   "id": "380a0325",
   "metadata": {},
   "outputs": [
    {
     "data": {
      "text/plain": [
       "0.8031563940187659"
      ]
     },
     "execution_count": 39,
     "metadata": {},
     "output_type": "execute_result"
    }
   ],
   "source": [
    "accuracy_score(Y,x_pred_train)"
   ]
  },
  {
   "cell_type": "code",
   "execution_count": 40,
   "id": "bdff829d",
   "metadata": {},
   "outputs": [
    {
     "data": {
      "text/plain": [
       "array([[18151,  4502],\n",
       "       [ 1435,  6073]], dtype=int64)"
      ]
     },
     "execution_count": 40,
     "metadata": {},
     "output_type": "execute_result"
    }
   ],
   "source": [
    "confusion_matrix(Y,x_pred_train)"
   ]
  },
  {
   "cell_type": "code",
   "execution_count": 41,
   "id": "b893e622",
   "metadata": {},
   "outputs": [
    {
     "name": "stdout",
     "output_type": "stream",
     "text": [
      "              precision    recall  f1-score   support\n",
      "\n",
      "       <=50K       0.93      0.80      0.86     22653\n",
      "        >50K       0.57      0.81      0.67      7508\n",
      "\n",
      "    accuracy                           0.80     30161\n",
      "   macro avg       0.75      0.81      0.77     30161\n",
      "weighted avg       0.84      0.80      0.81     30161\n",
      "\n"
     ]
    }
   ],
   "source": [
    "print(classification_report(Y,x_pred_train))"
   ]
  },
  {
   "cell_type": "code",
   "execution_count": 42,
   "id": "c9f71225",
   "metadata": {},
   "outputs": [],
   "source": [
    "#test model"
   ]
  },
  {
   "cell_type": "code",
   "execution_count": 43,
   "id": "e1675057",
   "metadata": {},
   "outputs": [],
   "source": [
    "y_pred_test = train_model.predict(x)"
   ]
  },
  {
   "cell_type": "code",
   "execution_count": 44,
   "id": "4193a5da",
   "metadata": {},
   "outputs": [],
   "source": [
    "#Test data accurancy score"
   ]
  },
  {
   "cell_type": "code",
   "execution_count": 45,
   "id": "6a27052f",
   "metadata": {},
   "outputs": [
    {
     "data": {
      "text/plain": [
       "0.8029216467463479"
      ]
     },
     "execution_count": 45,
     "metadata": {},
     "output_type": "execute_result"
    }
   ],
   "source": [
    "accuracy_score(y,y_pred_test)"
   ]
  },
  {
   "cell_type": "code",
   "execution_count": 46,
   "id": "152101ac",
   "metadata": {},
   "outputs": [
    {
     "data": {
      "text/plain": [
       "array([[9073, 2287],\n",
       "       [ 681, 3019]], dtype=int64)"
      ]
     },
     "execution_count": 46,
     "metadata": {},
     "output_type": "execute_result"
    }
   ],
   "source": [
    "confusion_matrix(y,y_pred_test)"
   ]
  },
  {
   "cell_type": "code",
   "execution_count": 47,
   "id": "daabdae5",
   "metadata": {},
   "outputs": [
    {
     "name": "stdout",
     "output_type": "stream",
     "text": [
      "              precision    recall  f1-score   support\n",
      "\n",
      "       <=50K       0.93      0.80      0.86     11360\n",
      "        >50K       0.57      0.82      0.67      3700\n",
      "\n",
      "    accuracy                           0.80     15060\n",
      "   macro avg       0.75      0.81      0.76     15060\n",
      "weighted avg       0.84      0.80      0.81     15060\n",
      "\n"
     ]
    }
   ],
   "source": [
    "print(classification_report(y,y_pred_test))"
   ]
  },
  {
   "cell_type": "markdown",
   "id": "3794a0b7",
   "metadata": {},
   "source": [
    "#### Multinominal Naive Bayes"
   ]
  },
  {
   "cell_type": "code",
   "execution_count": 48,
   "id": "29b1efb4",
   "metadata": {},
   "outputs": [],
   "source": [
    "from sklearn.naive_bayes import MultinomialNB as MB"
   ]
  },
  {
   "cell_type": "code",
   "execution_count": 49,
   "id": "f8f4ffaf",
   "metadata": {},
   "outputs": [],
   "source": [
    "#Train Model"
   ]
  },
  {
   "cell_type": "code",
   "execution_count": 50,
   "id": "dc7b27c0",
   "metadata": {},
   "outputs": [
    {
     "data": {
      "text/plain": [
       "MultinomialNB()"
      ]
     },
     "execution_count": 50,
     "metadata": {},
     "output_type": "execute_result"
    }
   ],
   "source": [
    "mb_model = MB()\n",
    "mb_model.fit(X,Y)"
   ]
  },
  {
   "cell_type": "code",
   "execution_count": 51,
   "id": "6a7e78a8",
   "metadata": {},
   "outputs": [],
   "source": [
    "y_mb_train = mb_model.predict(X)"
   ]
  },
  {
   "cell_type": "code",
   "execution_count": 52,
   "id": "04c46753",
   "metadata": {},
   "outputs": [],
   "source": [
    "#Training data accurancy score"
   ]
  },
  {
   "cell_type": "code",
   "execution_count": 53,
   "id": "b885591c",
   "metadata": {},
   "outputs": [
    {
     "data": {
      "text/plain": [
       "0.7729186698053778"
      ]
     },
     "execution_count": 53,
     "metadata": {},
     "output_type": "execute_result"
    }
   ],
   "source": [
    "accuracy_score(Y,y_mb_train)"
   ]
  },
  {
   "cell_type": "code",
   "execution_count": 54,
   "id": "d0d134f7",
   "metadata": {},
   "outputs": [
    {
     "data": {
      "text/plain": [
       "array([[21717,   936],\n",
       "       [ 5913,  1595]], dtype=int64)"
      ]
     },
     "execution_count": 54,
     "metadata": {},
     "output_type": "execute_result"
    }
   ],
   "source": [
    "confusion_matrix(Y,y_mb_train)"
   ]
  },
  {
   "cell_type": "code",
   "execution_count": 55,
   "id": "fa8f2862",
   "metadata": {},
   "outputs": [
    {
     "name": "stdout",
     "output_type": "stream",
     "text": [
      "              precision    recall  f1-score   support\n",
      "\n",
      "       <=50K       0.79      0.96      0.86     22653\n",
      "        >50K       0.63      0.21      0.32      7508\n",
      "\n",
      "    accuracy                           0.77     30161\n",
      "   macro avg       0.71      0.59      0.59     30161\n",
      "weighted avg       0.75      0.77      0.73     30161\n",
      "\n"
     ]
    }
   ],
   "source": [
    "print(classification_report(Y,y_mb_train))"
   ]
  },
  {
   "cell_type": "code",
   "execution_count": 56,
   "id": "b7ee3fe8",
   "metadata": {},
   "outputs": [],
   "source": [
    "#Test Model"
   ]
  },
  {
   "cell_type": "code",
   "execution_count": 57,
   "id": "ce693c74",
   "metadata": {},
   "outputs": [],
   "source": [
    "y_test_mb = mb_model.predict(x)"
   ]
  },
  {
   "cell_type": "code",
   "execution_count": 58,
   "id": "9cce6d67",
   "metadata": {},
   "outputs": [],
   "source": [
    "#Test data accurancy score"
   ]
  },
  {
   "cell_type": "code",
   "execution_count": 59,
   "id": "79aec102",
   "metadata": {},
   "outputs": [
    {
     "data": {
      "text/plain": [
       "0.7749667994687915"
      ]
     },
     "execution_count": 59,
     "metadata": {},
     "output_type": "execute_result"
    }
   ],
   "source": [
    "accuracy_score(y,y_test_mb)"
   ]
  },
  {
   "cell_type": "code",
   "execution_count": 60,
   "id": "c8f2be8e",
   "metadata": {},
   "outputs": [
    {
     "data": {
      "text/plain": [
       "array([[10891,   469],\n",
       "       [ 2920,   780]], dtype=int64)"
      ]
     },
     "execution_count": 60,
     "metadata": {},
     "output_type": "execute_result"
    }
   ],
   "source": [
    "confusion_matrix(y,y_test_mb)"
   ]
  },
  {
   "cell_type": "code",
   "execution_count": 61,
   "id": "a2a19786",
   "metadata": {},
   "outputs": [
    {
     "name": "stdout",
     "output_type": "stream",
     "text": [
      "              precision    recall  f1-score   support\n",
      "\n",
      "       <=50K       0.79      0.96      0.87     11360\n",
      "        >50K       0.62      0.21      0.32      3700\n",
      "\n",
      "    accuracy                           0.77     15060\n",
      "   macro avg       0.71      0.58      0.59     15060\n",
      "weighted avg       0.75      0.77      0.73     15060\n",
      "\n"
     ]
    }
   ],
   "source": [
    "print(classification_report(y,y_test_mb))"
   ]
  },
  {
   "cell_type": "code",
   "execution_count": null,
   "id": "f6dfeec2",
   "metadata": {},
   "outputs": [],
   "source": []
  }
 ],
 "metadata": {
  "kernelspec": {
   "display_name": "Python 3 (ipykernel)",
   "language": "python",
   "name": "python3"
  },
  "language_info": {
   "codemirror_mode": {
    "name": "ipython",
    "version": 3
   },
   "file_extension": ".py",
   "mimetype": "text/x-python",
   "name": "python",
   "nbconvert_exporter": "python",
   "pygments_lexer": "ipython3",
   "version": "3.9.13"
  }
 },
 "nbformat": 4,
 "nbformat_minor": 5
}
